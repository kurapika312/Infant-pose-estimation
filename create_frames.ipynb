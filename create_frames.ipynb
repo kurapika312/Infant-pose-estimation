{
 "cells": [
  {
   "cell_type": "code",
   "execution_count": 27,
   "metadata": {},
   "outputs": [
    {
     "data": {
      "text/plain": [
       "'/media/Data/ETS-Projects/Current-work/Infant-Pose-Estimation'"
      ]
     },
     "execution_count": 27,
     "metadata": {},
     "output_type": "execute_result"
    }
   ],
   "source": [
    "import os\n",
    "import cv2\n",
    "from matplotlib import pyplot as plt\n",
    "os.getcwd()"
   ]
  },
  {
   "cell_type": "code",
   "execution_count": 28,
   "metadata": {},
   "outputs": [],
   "source": [
    "# #Read frames and changes names\n",
    "# folder_name = 'video/Ashok'\n",
    "# for i, filename in enumerate(sorted(os.listdir(folder_name))):\n",
    "#     os.rename(folder_name + \"/\" + filename, folder_name + \"/\" + \"test\" + str(i) + \".jpg\")\n"
   ]
  },
  {
   "cell_type": "code",
   "execution_count": 29,
   "metadata": {},
   "outputs": [
    {
     "name": "stdout",
     "output_type": "stream",
     "text": [
      "['test1.jpg', 'test1279.jpg', 'test1879.jpg', 'test4160.jpg']\n",
      "0 test1.jpg\n",
      "1 test1279.jpg\n",
      "2 test1879.jpg\n",
      "3 test4160.jpg\n"
     ]
    }
   ],
   "source": [
    "folder_name = 'video/Ashok'\n",
    "image_list = []\n",
    "annotation_list = []\n",
    "print(os.listdir(folder_name))\n",
    "\n",
    "is_synthetic = False\n",
    "\n",
    "is_labeled = True\n",
    "image_source = \"https://www.youtube.com/watch?v=5q-wXlKSxD8\"\n",
    "\n",
    "bbox_head = []\n",
    "category_id = 1 \n",
    "nframes = 1\n",
    "scores = []\n",
    "num_keypoints = 17\n",
    "segmentation = []\n",
    "area = 100\n",
    "iscrowd = 0\n",
    "keypoints = [\n",
    "    10, 10, 2.0,\n",
    "    11, 11, 2.0, \n",
    "    12, 12, 2.0, \n",
    "    13, 13, 2.0, \n",
    "    14, 14, 2.0, \n",
    "    15, 15, 2.0, \n",
    "    16, 16, 2.0,\n",
    "    17, 17, 2.0, \n",
    "    18, 18, 2.0, \n",
    "    19, 19, 2.0, \n",
    "    20, 20, 2.0, \n",
    "    21, 21, 2.0, \n",
    "    22, 22, 2.0, \n",
    "    23, 23, 2.0, \n",
    "    24, 24, 2.0, \n",
    "    25, 25, 2.0, \n",
    "    26, 26, 2.0\n",
    "    ]\n",
    "\n",
    "for i, file_name in enumerate(sorted(os.listdir(folder_name))):\n",
    "    print(i, file_name)\n",
    "    img = cv2.imread(folder_name + \"/\" + file_name)\n",
    "    height, width, _ = img.shape\n",
    "    bbox = [1, 1, height, width]\n",
    "    original_file_name = file_name\n",
    "    index = file_name.replace('test', '')\n",
    "    index = int(index.replace('.jpg', ''))\n",
    "    frame_id = index\n",
    "    id = index\n",
    "    track_id = index\n",
    "    image_id = index\n",
    "    \n",
    "    image_dict = {\n",
    "        \"file_name\": file_name,\n",
    "        \"is_synthetic\": is_synthetic,\n",
    "        \"frame_id\": frame_id, \n",
    "        \"height\": height,\n",
    "        \"id\": id,\n",
    "        \"is_labeled\": is_labeled,\n",
    "        \"nframes\": nframes,\n",
    "        \"original_file_name\": original_file_name,\n",
    "        \"width\": width, \n",
    "        \"image_source\": image_source\n",
    "        }\n",
    "    image_list.append(image_dict)    \n",
    "    \n",
    "    annotation_dict = {\n",
    "        \"bbox\": bbox,\n",
    "        \"bbox_head\": bbox_head,\n",
    "        \"category_id\": category_id,\n",
    "        \"id\": id,\n",
    "        \"image_id\": image_id,\n",
    "        \"keypoints\": keypoints,\n",
    "        \"scores\": scores,\n",
    "        \"track_id\": track_id,\n",
    "        \"num_keypoints\": num_keypoints, \n",
    "        \"segmentation\": segmentation,\n",
    "        \"area\": area,\n",
    "        \"iscrowd\": iscrowd\n",
    "        } \n",
    "    annotation_list.append(annotation_dict)\n",
    "\n",
    "category_list = [{\"supercategory\": \"person\", \"id\": 1, \"name\": \"person\", \"keypoints\": [\"nose\", \"left_eye\", \"right_eye\", \"left_ear\", \"right_ear\", \"left_shoulder\", \"right_shoulder\", \"left_elbow\", \"right_elbow\", \"left_wrist\", \"right_wrist\", \"left_hip\", \"right_hip\", \"left_knee\", \"right_knee\", \"left_ankle\", \"right_ankle\"], \"skeleton\": [[16, 14], [14, 12], [17, 15], [15, 13], [12, 13], [6, 12], [7, 13], [6, 7], [6, 8], [7, 9], [8, 10], [9, 11], [2, 3], [1, 2], [1, 3], [2, 4], [3, 5], [4, 6], [5, 7]]}]\n",
    "content = {\n",
    "    \"images\": image_list, \n",
    "    \"annotations\": annotation_list,\n",
    "    \"categories\": category_list       \n",
    "    }"
   ]
  },
  {
   "cell_type": "code",
   "execution_count": 31,
   "metadata": {},
   "outputs": [],
   "source": [
    "import json\n",
    "json_object = json.dumps(content, indent = 4)\n",
    "with open(\"person_keypoints_validate_infant.json\", \"w\") as outfile:\n",
    "    outfile.write(json_object)"
   ]
  }
 ],
 "metadata": {
  "kernelspec": {
   "display_name": "syrip_env",
   "language": "python",
   "name": "python3"
  },
  "language_info": {
   "codemirror_mode": {
    "name": "ipython",
    "version": 3
   },
   "file_extension": ".py",
   "mimetype": "text/x-python",
   "name": "python",
   "nbconvert_exporter": "python",
   "pygments_lexer": "ipython3",
   "version": "3.7.16"
  },
  "orig_nbformat": 4,
  "vscode": {
   "interpreter": {
    "hash": "8ff1fb173ab756182516332e063e4fb28ef14e8b6103d3f3fcfcf0ef63c421a0"
   }
  }
 },
 "nbformat": 4,
 "nbformat_minor": 2
}
