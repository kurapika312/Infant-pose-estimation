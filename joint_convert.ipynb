{
 "cells": [
  {
   "cell_type": "code",
   "execution_count": 48,
   "metadata": {},
   "outputs": [
    {
     "name": "stdout",
     "output_type": "stream",
     "text": [
      "{'nose': 0, 'left_eye': 1, 'right_eye': 2, 'left_ear': 3, 'right_ear': 4, 'left_shoulder': 5, 'right_shoulder': 6, 'left_elbow': 7, 'right_elbow': 8, 'left_wrist': 9, 'right_wrist': 10, 'left_hip': 11, 'right_hip': 12, 'left_knee': 13, 'right_knee': 14, 'left_ankle': 15, 'right_ankle': 16, 'neck': 17, 'pelvis': 18}\n"
     ]
    }
   ],
   "source": [
    "syrip_joint_names = [\"nose\", \n",
    "                    \"left_eye\", \n",
    "                    \"right_eye\", \n",
    "                    \"left_ear\", \n",
    "                    \"right_ear\", \n",
    "                    \"left_shoulder\", \n",
    "                    \"right_shoulder\", \n",
    "                    \"left_elbow\", \n",
    "                    \"right_elbow\", \n",
    "                    \"left_wrist\", \n",
    "                    \"right_wrist\",\n",
    "                    \"left_hip\", \n",
    "                    \"right_hip\", \n",
    "                    \"left_knee\", \n",
    "                    \"right_knee\", \n",
    "                    \"left_ankle\", \n",
    "                    \"right_ankle\"] \n",
    "missing_joint_names = [\"neck\", \"pelvis\"]\n",
    "syrip_joint_names_faked = syrip_joint_names\n",
    "syrip_joint_names_faked.extend(missing_joint_names)\n",
    "syrip_joint_dict_faked = dict(zip(syrip_joint_names_faked, range(len(syrip_joint_names_faked))))\n",
    "print(syrip_joint_dict_faked)"
   ]
  },
  {
   "cell_type": "code",
   "execution_count": 49,
   "metadata": {},
   "outputs": [
    {
     "name": "stdout",
     "output_type": "stream",
     "text": [
      "{'nose': 0, 'neck': 1, 'right_shoulder': 2, 'right_elbow': 3, 'right_wrist': 4, 'left_shoulder': 5, 'left_elbow': 6, 'left_wrist': 7, 'pelvis': 8, 'right_hip': 9, 'right_knee': 10, 'right_ankle': 11, 'left_hip': 12, 'left_knee': 13, 'left_ankle': 14, 'right_eye': 15, 'left_eye': 16, 'right_ear': 17, 'left_ear': 18}\n"
     ]
    }
   ],
   "source": [
    "coco19_joint_names = [\"nose\",\n",
    "                    \"neck\",\n",
    "                    \"right_shoulder\",\n",
    "                    \"right_elbow\",\n",
    "                    \"right_wrist\",\n",
    "                    \"left_shoulder\",\n",
    "                    \"left_elbow\",\n",
    "                    \"left_wrist\",\n",
    "                    \"pelvis\",\n",
    "                    \"right_hip\",\n",
    "                    \"right_knee\",\n",
    "                    \"right_ankle\",\n",
    "                    \"left_hip\",\n",
    "                    \"left_knee\",\n",
    "                    \"left_ankle\",\n",
    "                    \"right_eye\",\n",
    "                    \"left_eye\",\n",
    "                    \"right_ear\",\n",
    "                    \"left_ear\",] \n",
    "coco19_joint_dict = dict(zip(coco19_joint_names, range(len(coco19_joint_names))))\n",
    "print(coco19_joint_dict)"
   ]
  },
  {
   "cell_type": "code",
   "execution_count": 51,
   "metadata": {},
   "outputs": [
    {
     "name": "stdout",
     "output_type": "stream",
     "text": [
      "{'nose': (0, 0), 'left_eye': (1, 16), 'right_eye': (2, 15), 'left_ear': (3, 18), 'right_ear': (4, 17), 'left_shoulder': (5, 5), 'right_shoulder': (6, 2), 'left_elbow': (7, 6), 'right_elbow': (8, 3), 'left_wrist': (9, 7), 'right_wrist': (10, 4), 'left_hip': (11, 12), 'right_hip': (12, 9), 'left_knee': (13, 13), 'right_knee': (14, 10), 'left_ankle': (15, 14), 'right_ankle': (16, 11), 'neck': (17, 1), 'pelvis': (18, 8)}\n"
     ]
    }
   ],
   "source": [
    "joint_mapping = {}\n",
    "for key in syrip_joint_dict_faked:\n",
    "    if key in coco19_joint_dict:\n",
    "        joint_mapping[key] = (syrip_joint_dict_faked[key],coco19_joint_dict[key])\n",
    "print(joint_mapping)"
   ]
  },
  {
   "cell_type": "code",
   "execution_count": 64,
   "metadata": {},
   "outputs": [
    {
     "name": "stdout",
     "output_type": "stream",
     "text": [
      "0 0\n",
      "1 16\n",
      "2 15\n",
      "3 18\n",
      "4 17\n",
      "5 5\n",
      "6 2\n",
      "7 6\n",
      "8 3\n",
      "9 7\n",
      "10 4\n",
      "11 12\n",
      "12 9\n",
      "13 13\n",
      "14 10\n",
      "15 14\n",
      "16 11\n",
      "17 1\n",
      "18 8\n",
      "[166.4632110595703, 108.95108795166016, 0.9746381044387817, 0, 0, 0, 129.1693878173828, 185.38865661621094, 0.9229185581207275, 98.88706970214844, 261.2779541015625, 0.9599963426589966, 131.99696350097656, 335.046875, 0.9791857004165649, 250.50390625, 172.7265167236328, 0.9441099762916565, 296.70172119140625, 225.61746215820312, 0.7840620279312134, 304.3501281738281, 231.24774169921875, 0.8888482451438904, 0, 0, 0, 187.44873046875, 369.3898010253906, 0.8121997714042664, 219.22323608398438, 445.86334228515625, 0.8803714513778687, 263.86163330078125, 520.7730712890625, 0.8641937375, 271.0630798339844, 336.5252380371094, 0.7994863986968994, 301.9457702636719, 328.91119384765625, 0.8345755338668823, 336.25469970703125, 488.1845703125, 0.9214352369308472, 142.52098083496094, 100.05690002441406, 0.9529447555541992, 189.5045166015625, 91.07920837402344, 0.9824138283729553, 123.46930694580078, 122.61561584472656, 0.9059360027313232, 234.70443725585938, 117.00249481201172, 0.985977053642273]\n",
      "57\n"
     ]
    }
   ],
   "source": [
    "keypoint_syrip = [\n",
    "                166.4632110595703,108.95108795166016,0.9746381044387817,\n",
    "                189.5045166015625,91.07920837402344,0.9824138283729553,\n",
    "                142.52098083496094,100.05690002441406,0.9529447555541992,\n",
    "                234.70443725585938,117.00249481201172,0.985977053642273,\n",
    "                123.46930694580078,122.61561584472656,0.9059360027313232,\n",
    "                250.50390625,172.7265167236328,0.9441099762916565,\n",
    "                129.1693878173828,185.38865661621094,0.9229185581207275,\n",
    "                296.70172119140625,225.61746215820312,0.7840620279312134,\n",
    "                98.88706970214844,261.2779541015625,0.9599963426589966,\n",
    "                304.3501281738281,231.24774169921875,0.8888482451438904,\n",
    "                131.99696350097656,335.046875,0.9791857004165649,\n",
    "                271.0630798339844,336.5252380371094,0.7994863986968994,\n",
    "                187.44873046875,369.3898010253906,0.8121997714042664,\n",
    "                301.9457702636719,328.91119384765625,0.8345755338668823,\n",
    "                219.22323608398438,445.86334228515625,0.8803714513778687,\n",
    "                336.25469970703125,488.1845703125,0.9214352369308472,\n",
    "                263.86163330078125,520.7730712890625,0.8641937375\n",
    "                ]\n",
    "keypoint_syrip_faked = keypoint_syrip\n",
    "keypoint_syrip_faked.extend([0]*3*len(missing_joint_names))\n",
    "keypoint_coco19 = [0]*len(keypoint_syrip_faked)\n",
    "for key in joint_mapping:\n",
    "    source_joint_index, target_joint_index = joint_mapping[key]\n",
    "    keypoint_coco19[3*target_joint_index:3*target_joint_index+3] = keypoint_syrip_faked[3*source_joint_index:3*source_joint_index+3]\n"
   ]
  }
 ],
 "metadata": {
  "kernelspec": {
   "display_name": "syrip",
   "language": "python",
   "name": "python3"
  },
  "language_info": {
   "codemirror_mode": {
    "name": "ipython",
    "version": 3
   },
   "file_extension": ".py",
   "mimetype": "text/x-python",
   "name": "python",
   "nbconvert_exporter": "python",
   "pygments_lexer": "ipython3",
   "version": "3.9.12"
  },
  "orig_nbformat": 4
 },
 "nbformat": 4,
 "nbformat_minor": 2
}
